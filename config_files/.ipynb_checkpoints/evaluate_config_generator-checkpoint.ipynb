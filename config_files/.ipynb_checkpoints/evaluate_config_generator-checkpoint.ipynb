{
 "cells": [
  {
   "cell_type": "code",
   "execution_count": 1,
   "id": "93063100",
   "metadata": {},
   "outputs": [],
   "source": [
    "import yaml\n",
    "import os\n",
    "import numpy as np\n",
    "import copy"
   ]
  },
  {
   "cell_type": "code",
   "execution_count": 2,
   "id": "1a1f207b",
   "metadata": {},
   "outputs": [],
   "source": [
    "base_config={\n",
    "                   #'model_name': ,\n",
    "                   #'model_path': ,\n",
    "                   #'device': ,\n",
    "                   'class_groups': [[2*i,2*i+1] for i in range(5)],\n",
    "                   #'dataset_name':'MNIST' or 'CIFAR' ,\n",
    "                   #'dataset_type': 'std', 'group', 'corrupt' or 'mark',\n",
    "                   #'data_root':,\n",
    "                   #'xpl_root':,\n",
    "                   #'coef_root':,\n",
    "                   #'save_dir': ,\n",
    "                   'validation_size': 2000,\n",
    "}\n",
    "data_root='<data_root>'\n",
    "project_root='<project_root>'"
   ]
  },
  {
   "cell_type": "code",
   "execution_count": 3,
   "id": "cab30a67",
   "metadata": {},
   "outputs": [],
   "source": [
    "def create_config(config, config_name):\n",
    "    config['data_root'] = data_root\n",
    "    config['xpl_root'] = f\"{project_root}/explanations/{config['dataset_name']}/{config['dataset_type']}/{config['model_name']}_{config['dataset_type']}/{config['xai_method']}\"\n",
    "    if config['xai_method']=='dualview':\n",
    "        config['C']=0.001\n",
    "        config['xpl_root']=f\"{config['xpl_root']}_{config['C']}\"\n",
    "    if config['xai_method'] in ['dualview', 'representer']:\n",
    "        config['coef_root']=config['xpl_root']\n",
    "\n",
    "    config['device'] = 'cuda'\n",
    "    config['model_path']=f\"{project_root}/checkpoints/{config['dataset_name']}/{config['dataset_type']}/{config['model_name']}_{config['dataset_type']}/{config['dataset_name']}_{config['model_name']}\"\n",
    "    config['save_dir'] = f'{project_root}/test_output'\n",
    "    path = f\"evaluate/{config['dataset_name']}\"\n",
    "    os.makedirs(path, exist_ok=True)\n",
    "    \n",
    "    with open(f\"{path}/{config_name}.yaml\", 'w') as outfile:\n",
    "        yaml.dump(config, outfile, default_flow_style=False)"
   ]
  },
  {
   "cell_type": "code",
   "execution_count": 4,
   "id": "64169599",
   "metadata": {},
   "outputs": [],
   "source": [
    "names=[('MNIST', 'basic_conv'),('CIFAR', 'resnet')]\n",
    "dataset_types=['std', 'group', 'corrupt', 'mark']\n",
    "xai_methods=['dualview', 'representer', 'influence', 'rp_similarity', 'similarity']"
   ]
  },
  {
   "cell_type": "code",
   "execution_count": 5,
   "id": "68aa2caf",
   "metadata": {},
   "outputs": [],
   "source": [
    "from copy import deepcopy\n",
    "for dsname, model_name in names:\n",
    "    base_config['model_name']=model_name   \n",
    "    base_config['dataset_name']=dsname\n",
    "    for dstype in dataset_types:\n",
    "        if dstype=='group':\n",
    "            base_config['num_classes']=len(base_config['class_groups'])\n",
    "        else:\n",
    "            base_config['num_classes']=10\n",
    "        base_config['dataset_type']=dstype\n",
    "        for xai_method in xai_methods:\n",
    "            base_config['xai_method']=xai_method\n",
    "            create_config(deepcopy(base_config), f\"{model_name}_{dstype}_{xai_method}\")"
   ]
  },
  {
   "cell_type": "code",
   "execution_count": null,
   "id": "8e0d2a50",
   "metadata": {},
   "outputs": [],
   "source": []
  }
 ],
 "metadata": {
  "kernelspec": {
   "display_name": "Python 3 (ipykernel)",
   "language": "python",
   "name": "python3"
  },
  "language_info": {
   "codemirror_mode": {
    "name": "ipython",
    "version": 3
   },
   "file_extension": ".py",
   "mimetype": "text/x-python",
   "name": "python",
   "nbconvert_exporter": "python",
   "pygments_lexer": "ipython3",
   "version": "3.10.12"
  }
 },
 "nbformat": 4,
 "nbformat_minor": 5
}
