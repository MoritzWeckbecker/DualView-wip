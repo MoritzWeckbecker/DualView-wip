{
 "cells": [
  {
   "cell_type": "code",
   "execution_count": 4,
   "id": "93063100",
   "metadata": {},
   "outputs": [],
   "source": [
    "import yaml\n",
    "import os\n",
    "import numpy as np\n",
    "import copy"
   ]
  },
  {
   "cell_type": "code",
   "execution_count": 10,
   "id": "1a1f207b",
   "metadata": {},
   "outputs": [],
   "source": [
    "base_config={\n",
    "                   #'model_name': ,\n",
    "                   #'model_path': ,\n",
    "                   #'device': ,\n",
    "                   'class_groups': [[2*i,2*i+1] for i in range(5)],\n",
    "                   'dataset_name':'MNIST' ,\n",
    "                   #'dataset_type':,\n",
    "                   #'data_root':,\n",
    "                   'batch_size': 32,\n",
    "                   #'save_dir': ,\n",
    "                   'validation_size': 2000,\n",
    "                   'accuracy': True,\n",
    "                   'num_batches_per_file':10,\n",
    "                   'start_file': 0,\n",
    "                   'num_files':100\n",
    "}\n"
   ]
  },
  {
   "cell_type": "code",
   "execution_count": 11,
   "id": "cab30a67",
   "metadata": {},
   "outputs": [],
   "source": [
    "def create_config_local(config, config_name, C_values=None):\n",
    "    config['data_root'] = '/home/fe/yolcu/Documents/Code/Datasets/'\n",
    "    config['device'] = 'cuda'\n",
    "    config['model_path']=f\"/home/fe/yolcu/Documents/Code/THESIS/checkpoints/{config['dataset_name']}/{config['dataset_type']}/{config['model_name']}_{config['dataset_type']}/{config['dataset_name']}_{config['model_name']}\"\n",
    "    config['save_dir'] = f\"/home/fe/yolcu/Documents/Code/THESIS/explanations/{config['dataset_name']}/{config['dataset_type']}/{config['model_name']}_{config['dataset_type']}/{config['xai_method']}\"\n",
    "    path = f\"local/dualview/{config['dataset_name']}\"\n",
    "    os.makedirs(path, exist_ok=True)\n",
    "    if C_values is not None:\n",
    "        base_save_dir=config['save_dir']\n",
    "        for c in C_values:\n",
    "            config['save_dir']=f\"{base_save_dir}_{c}\"\n",
    "            config['C']=c\n",
    "            with open(f\"{path}/{config_name}_{c}.yaml\", 'w') as outfile:\n",
    "                yaml.dump(config, outfile, default_flow_style=False)\n",
    "            \n",
    "    else:\n",
    "        with open(f\"{path}/{config_name}.yaml\", 'w') as outfile:\n",
    "            yaml.dump(config, outfile, default_flow_style=False)\n",
    "        \n",
    "def create_config_cluster(config, config_name, C_values=None):\n",
    "    config['device']='cuda'\n",
    "    config['data_root'] = '/mnt/dataset/'\n",
    "    config['model_path']=f\"/mnt/checkpoints/{config['dataset_name']}/{config['dataset_type']}/{config['model_name']}_{config['dataset_type']}/{config['dataset_name']}_{config['model_name']}\"\n",
    "    config['save_dir'] = '/mnt/outputs/'\n",
    "    \n",
    "    path = f\"cluster/dualview/{config['dataset_name']}\"\n",
    "    os.makedirs(path, exist_ok=True)\n",
    "    if C_values is not None:\n",
    "        for c in C_values:\n",
    "            with open(f\"{path}/{config_name}_{c}.yaml\", 'w') as outfile:\n",
    "                yaml.dump(config, outfile, default_flow_style=False)   \n",
    "    else:\n",
    "        with open(f\"{path}/{config_name}.yaml\", 'w') as outfile:\n",
    "            yaml.dump(config, outfile, default_flow_style=False)"
   ]
  },
  {
   "cell_type": "code",
   "execution_count": 12,
   "id": "64169599",
   "metadata": {},
   "outputs": [],
   "source": [
    "#model_names=['basic_conv']\n",
    "model_names=['basic_conv']\n",
    "dataset_types=['std', 'group', 'corrupt', 'mark']\n",
    "\n",
    "batch_sizes_by_method={\n",
    "        'similarity': 32,\n",
    "        'influence': 16,\n",
    "        'tracin':16,\n",
    "        'mcsvm': 128,\n",
    "        'representer': 128\n",
    "}"
   ]
  },
  {
   "cell_type": "code",
   "execution_count": 14,
   "id": "68aa2caf",
   "metadata": {},
   "outputs": [],
   "source": [
    "xai_methods=['mcsvm']\n",
    "#C_values=[10e-7,10e-5,0.001,0.01, 0.1, 1., 10.]\n",
    "C_values=[]\n",
    "base_config['num_files']=500\n",
    "for name in model_names:\n",
    "    base_config['model_name']=name\n",
    "    for dstype in dataset_types:\n",
    "        if dstype=='group':\n",
    "            base_config['num_classes']=len(base_config['class_groups'])\n",
    "        else:\n",
    "            base_config['num_classes']=10\n",
    "        base_config['dataset_type']=dstype\n",
    "        for xai_method in xai_methods:\n",
    "            base_config['xai_method']=xai_method\n",
    "            base_config['batch_size']=batch_sizes_by_method[xai_method]\n",
    "            if xai_method=='mcsvm' and len(C_values)>0:\n",
    "                #create_config_cluster(base_config, f\"{name}_{dstype}_{xai_method}\",C_values)        \n",
    "                create_config_local(base_config, f\"{name}_{dstype}_{xai_method}\", C_values)\n",
    "            else:\n",
    "                create_config_cluster(base_config, f\"{name}_{dstype}_{xai_method}\")        \n",
    "                create_config_local(base_config, f\"{name}_{dstype}_{xai_method}\")"
   ]
  },
  {
   "cell_type": "code",
   "execution_count": null,
   "id": "1fdfbfb4",
   "metadata": {},
   "outputs": [],
   "source": []
  },
  {
   "cell_type": "code",
   "execution_count": 5,
   "id": "c6ed8ad6",
   "metadata": {},
   "outputs": [],
   "source": [
    "xai_methods=['representer']#, 'influence']\n",
    "base_config['num_files']=2\n",
    "base_config['num_batches_per_file']=1\n",
    "num_jobs=1\n",
    "file_nums=[i*base_config['num_files'] for i in range(num_jobs)]\n",
    "for name in model_names:\n",
    "    base_config['model_name']=name\n",
    "    for dstype in dataset_types:\n",
    "        if dstype=='group':\n",
    "            base_config['num_classes']=len(base_config['class_groups'])\n",
    "        else:\n",
    "            base_config['num_classes']=10\n",
    "        base_config['dataset_type']=dstype\n",
    "        for xai_method in xai_methods:\n",
    "            base_config['xai_method']=xai_method\n",
    "            base_config['batch_size']=batch_sizes_by_method[xai_method]\n",
    "            for index,file_num in enumerate(file_nums):\n",
    "                base_config[\"start_file\"]=file_num\n",
    "                create_config_cluster(base_config, f\"{str(index).zfill(len(str(num_jobs)))}_{name}_{dstype}_{xai_method}\")\n",
    "                #create_config_local(base_config, f\"{name}_{dstype}_{xai_method}_{str(index).zfill(2)}\")"
   ]
  },
  {
   "cell_type": "code",
   "execution_count": 6,
   "id": "7820d983",
   "metadata": {},
   "outputs": [
    {
     "data": {
      "text/plain": [
       "3"
      ]
     },
     "execution_count": 6,
     "metadata": {},
     "output_type": "execute_result"
    }
   ],
   "source": [
    "len(str(num_jobs\n",
    "       ))"
   ]
  },
  {
   "cell_type": "code",
   "execution_count": null,
   "id": "cb54fcb7",
   "metadata": {},
   "outputs": [],
   "source": []
  }
 ],
 "metadata": {
  "kernelspec": {
   "display_name": "Python 3 (ipykernel)",
   "language": "python",
   "name": "python3"
  },
  "language_info": {
   "codemirror_mode": {
    "name": "ipython",
    "version": 3
   },
   "file_extension": ".py",
   "mimetype": "text/x-python",
   "name": "python",
   "nbconvert_exporter": "python",
   "pygments_lexer": "ipython3",
   "version": "3.10.12"
  }
 },
 "nbformat": 4,
 "nbformat_minor": 5
}
