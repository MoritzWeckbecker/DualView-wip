{
 "cells": [
  {
   "cell_type": "code",
   "execution_count": 21,
   "id": "93063100",
   "metadata": {},
   "outputs": [],
   "source": [
    "import yaml\n",
    "import os\n",
    "import numpy as np\n",
    "import copy"
   ]
  },
  {
   "cell_type": "code",
   "execution_count": 22,
   "id": "1a1f207b",
   "metadata": {},
   "outputs": [],
   "source": [
    "base_config={\n",
    "                   #'model_name': ,\n",
    "                   #'model_path': ,\n",
    "                   #'device': ,\n",
    "                   'class_groups': [[2*i,2*i+1] for i in range(5)],\n",
    "                   'dataset_name':'MNIST' ,\n",
    "                   #'dataset_type':,\n",
    "                   #'data_root':,\n",
    "                   #'xpl_root':,\n",
    "                   #'coef_root':,\n",
    "                   #'save_dir': ,\n",
    "                   'validation_size': 2000,\n",
    "}\n"
   ]
  },
  {
   "cell_type": "code",
   "execution_count": 23,
   "id": "cab30a67",
   "metadata": {},
   "outputs": [],
   "source": [
    "# NEED TO UPDATE LOCAL CONFIG GENERATOR FOR PERSONAL LOCAL COMPUTER\n",
    "def create_config_local(config, config_name):\n",
    "    config['data_root'] = '/home/fe/yolcu/Documents/Code/Datasets/'\n",
    "    config['xpl_root'] = f\"/home/fe/yolcu/Documents/Code/THESIS/explanations/{config['dataset_name']}/{config['dataset_type']}/{config['model_name']}_{config['dataset_type']}/{config['xai_method']}\"\n",
    "    if config['xai_method'] in ['mcsvm', 'representer']:\n",
    "        base_config['coef_root']=base_config['xpl_root']\n",
    "    elif 'coef_root' in base_config.keys():\n",
    "        base_config.pop('coef_root')\n",
    "    config['device'] = 'cuda'\n",
    "    config['model_path']=f\"/home/fe/yolcu/Documents/Code/THESIS/checkpoints/{config['dataset_name']}/{config['dataset_type']}/{config['model_name']}_{config['dataset_type']}/{config['dataset_name']}_{config['model_name']}\"\n",
    "    config['save_dir'] = '/home/fe/yolcu/Documents/Code/THESIS/test_output'\n",
    "    path = f\"local/evaluate/{config['dataset_name']}\"\n",
    "    os.makedirs(path, exist_ok=True)\n",
    "    \n",
    "    with open(f\"{path}/{config_name}.yaml\", 'w') as outfile:\n",
    "        yaml.dump(config, outfile, default_flow_style=False)\n",
    "        \n",
    "def create_config_cluster(config, config_name):\n",
    "    if config['dataset_type'] == 'stdk':\n",
    "        dstype_file = 'std'\n",
    "    elif config['dataset_type'] == 'groupk':\n",
    "        dstype_file = 'group'\n",
    "    elif config['dataset_type'] == 'switched':\n",
    "        dstype_file = 'switched_one_file'\n",
    "    elif config[\"dataset_type\"] in [\"add_batch_in\", \"add_batch_in_neg\", \"leave_out\", \"only_batch\", \"lds\"]:\n",
    "        dstype_file = 'std'\n",
    "    else:\n",
    "        dstype_file = config['dataset_type']\n",
    "    config['device']='cuda'\n",
    "    config['xpl_root'] = f'/mnt/explanations/{config['dataset_name']}/{dstype_file}/{config['model_name']}_{dstype_file}/{config['xai_method']}'\n",
    "    if config['xai_method'] in ['dualview', 'representer']:\n",
    "        base_config['coef_root']=base_config['xpl_root']\n",
    "    elif 'coef_root' in base_config.keys():\n",
    "        base_config.pop('coef_root')\n",
    "    config['data_root']='/mnt/dataset'\n",
    "    config['model_path']=f\"/mnt/checkpoints/{config['dataset_name']}/{dstype_file}/{config['model_name']}_{dstype_file}/{config['dataset_name']}_{config['model_name']}\"\n",
    "    config['save_dir'] = '/mnt/outputs/'\n",
    "    \n",
    "    path = f\"cluster/evaluate/{config['dataset_name']}\"\n",
    "    os.makedirs(path, exist_ok=True)\n",
    "    \n",
    "    with open(f\"{path}/{config_name}.yaml\", 'w') as outfile:\n",
    "        yaml.dump(config, outfile, default_flow_style=False)"
   ]
  },
  {
   "cell_type": "code",
   "execution_count": 24,
   "id": "64169599",
   "metadata": {},
   "outputs": [],
   "source": [
    "model_names=['basic_conv', 'homo_conv']#,'basic_fc', 'homo_fc']\n",
    "dataset_types=['std', 'group', 'corrupt', 'mark',\n",
    "               'stdk', 'groupk', 'switched',\n",
    "               'add_batch_in', \"add_batch_in_neg\", \"leave_out\", \"only_batch\", \"lds\"]\n",
    "xai_methods=['dualview_0.001', 'representer', 'influence', 'rp_similarity', 'similarity']"
   ]
  },
  {
   "cell_type": "code",
   "execution_count": 25,
   "id": "68aa2caf",
   "metadata": {},
   "outputs": [],
   "source": [
    "for name in model_names:\n",
    "    base_config['model_name']=name       \n",
    "    for dstype in dataset_types:\n",
    "        if dstype=='group':\n",
    "            base_config['num_classes']=len(base_config['class_groups'])\n",
    "        else:\n",
    "            base_config['num_classes']=10\n",
    "        base_config['dataset_type']=dstype\n",
    "        for xai_method in xai_methods:\n",
    "            base_config['xai_method']=xai_method\n",
    "            create_config_cluster(base_config, f\"{name}_{dstype}_{xai_method}\")\n",
    "            create_config_local(base_config, f\"{name}_{dstype}_{xai_method}\")"
   ]
  },
  {
   "cell_type": "code",
   "execution_count": null,
   "id": "8e0d2a50",
   "metadata": {},
   "outputs": [],
   "source": []
  }
 ],
 "metadata": {
  "kernelspec": {
   "display_name": "Python 3 (ipykernel)",
   "language": "python",
   "name": "python3"
  },
  "language_info": {
   "codemirror_mode": {
    "name": "ipython",
    "version": 3
   },
   "file_extension": ".py",
   "mimetype": "text/x-python",
   "name": "python",
   "nbconvert_exporter": "python",
   "pygments_lexer": "ipython3",
   "version": "3.12.0"
  }
 },
 "nbformat": 4,
 "nbformat_minor": 5
}
