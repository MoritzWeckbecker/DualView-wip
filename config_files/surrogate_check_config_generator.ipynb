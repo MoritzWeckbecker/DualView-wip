{
 "cells": [
  {
   "cell_type": "code",
   "execution_count": 11,
   "id": "93063100",
   "metadata": {},
   "outputs": [],
   "source": [
    "import yaml\n",
    "import os\n",
    "import numpy as np\n",
    "import copy"
   ]
  },
  {
   "cell_type": "code",
   "execution_count": 12,
   "id": "1a1f207b",
   "metadata": {},
   "outputs": [],
   "source": [
    "base_config={\n",
    "                   #'model_name': ,\n",
    "                   #'model_path': ,\n",
    "                   #'device': ,\n",
    "                   'class_groups': [[2*i,2*i+1] for i in range(5)],\n",
    "                   #'dataset_name':'MNIST' or 'CIFAR',\n",
    "                   #'dataset_type': 'std', 'group', 'corrupt' or 'mark',\n",
    "                   #'data_root':,\n",
    "                   'batch_size': 32,\n",
    "                   #'save_dir': ,\n",
    "                   'validation_size': 2000,\n",
    "                   'accuracy': True,\n",
    "                   'start_file': 0,\n",
    "                   'num_files': 20\n",
    "}\n",
    "project_root=\"C:/Users/weckbecker/DualView-wip\"\n",
    "dataset_root=\"C:/Users/weckbecker/DualView-wip/src/datasets\"\n",
    "data_root=\"C:/Users/weckbecker/DualView-wip/src/datasets\""
   ]
  },
  {
   "cell_type": "code",
   "execution_count": 13,
   "id": "cab30a67",
   "metadata": {},
   "outputs": [],
   "source": [
    "def create_config(config, config_name):\n",
    "    config['data_root'] = dataset_root\n",
    "    config['device'] = 'cuda'\n",
    "    if config['dataset_type'] in [\"switched_one_file\", \"std_one_file\"]:\n",
    "        config['model_path']=f\"{project_root}/checkpoints/{config['dataset_name']}/std/{config['model_name']}_std/{config['dataset_name']}_{config['model_name']}\"\n",
    "    else:\n",
    "        config['model_path']=f\"{project_root}/checkpoints/{config['dataset_name']}/{config['dataset_type']}/{config['model_name']}_{config['dataset_type']}/{config['dataset_name']}_{config['model_name']}\"\n",
    "    config['save_dir_explainer'] = f\"{project_root}/explanations/{config['dataset_name']}/{config['dataset_type']}/{config['model_name']}_{config['dataset_type']}/{config['xai_method']}\"\n",
    "    config['save_dir_results'] = f\"{project_root}/surrogate_check/{config['dataset_name']}/{config['dataset_type']}/{config['model_name']}_{config['dataset_type']}/{config['xai_method']}\"\n",
    "    path = f\"surrogate_check/{config['dataset_name']}\"\n",
    "    os.makedirs(path, exist_ok=True)\n",
    "    if config['xai_method']==\"dualview\":\n",
    "        config['C']=0.001\n",
    "        config['save_dir_explainer']=f\"{config['save_dir_explainer']}_{config['C']}\"\n",
    "        config['save_dir_results']=f\"{config['save_dir_results']}_{config['C']}\"\n",
    "    with open(f\"{path}/{config_name}.yaml\", 'w') as outfile:\n",
    "        yaml.dump(config, outfile, default_flow_style=False)\n"
   ]
  },
  {
   "cell_type": "code",
   "execution_count": 14,
   "id": "64169599",
   "metadata": {},
   "outputs": [],
   "source": [
    "names=[('MNIST','basic_conv'),('CIFAR','resnet')]\n",
    "xai_methods=['dualview','representer', 'rp_similarity', 'similarity']\n",
    "dataset_types=['std', 'group', 'mark', 'corrupt']\n",
    "batch_size=32"
   ]
  },
  {
   "cell_type": "code",
   "execution_count": 15,
   "id": "68aa2caf",
   "metadata": {},
   "outputs": [],
   "source": [
    "from copy import deepcopy\n",
    "\n",
    "base_config['num_files']=500\n",
    "for dsname,model_name in names:\n",
    "    base_config['model_name']=model_name\n",
    "    base_config['dataset_name']=dsname\n",
    "    base_config['batch_size']=batch_size \n",
    "    for dstype in dataset_types:\n",
    "        if dstype=='group':\n",
    "            base_config['num_classes']=len(base_config['class_groups'])\n",
    "        else:\n",
    "            base_config['num_classes']=10\n",
    "        base_config['dataset_type']=dstype\n",
    "        if dstype in ['switched_one_file', 'std_one_file']:\n",
    "            base_config['num_batches_per_file'] = 100000\n",
    "        else:\n",
    "            base_config['num_batches_per_file'] = 100\n",
    "        for xai_method in xai_methods:\n",
    "            base_config['xai_method']=xai_method    \n",
    "            create_config(deepcopy(base_config), f\"{model_name}_{dstype}_{xai_method}\")"
   ]
  },
  {
   "cell_type": "code",
   "execution_count": null,
   "id": "f9d9b0c8",
   "metadata": {},
   "outputs": [],
   "source": []
  },
  {
   "cell_type": "code",
   "execution_count": null,
   "id": "81997bc8",
   "metadata": {},
   "outputs": [],
   "source": []
  }
 ],
 "metadata": {
  "kernelspec": {
   "display_name": "Python 3 (ipykernel)",
   "language": "python",
   "name": "python3"
  },
  "language_info": {
   "codemirror_mode": {
    "name": "ipython",
    "version": 3
   },
   "file_extension": ".py",
   "mimetype": "text/x-python",
   "name": "python",
   "nbconvert_exporter": "python",
   "pygments_lexer": "ipython3",
   "version": "3.12.0"
  }
 },
 "nbformat": 4,
 "nbformat_minor": 5
}
