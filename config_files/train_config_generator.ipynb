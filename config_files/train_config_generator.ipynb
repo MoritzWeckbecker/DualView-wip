{
 "cells": [
  {
   "cell_type": "code",
   "execution_count": 1,
   "id": "93063100",
   "metadata": {},
   "outputs": [],
   "source": [
    "import yaml\n",
    "import os\n",
    "import numpy as np\n",
    "import copy"
   ]
  },
  {
   "cell_type": "code",
   "execution_count": 2,
   "id": "29939968",
   "metadata": {},
   "outputs": [],
   "source": [
    "ds_name=\"CIFAR\""
   ]
  },
  {
   "cell_type": "code",
   "execution_count": 3,
   "id": "1a1f207b",
   "metadata": {},
   "outputs": [],
   "source": [
    "base_config={\n",
    "                   #'model_name': ,\n",
    "                   #'model_path': ,\n",
    "                   'base_epoch': 0,\n",
    "                   #'device': ,\n",
    "                   'num_classes': 10,\n",
    "                   'class_groups': [[2*i,2*i+1] for i in range(5)],\n",
    "                   'dataset_name':ds_name ,\n",
    "                   'dataset_type':'std',\n",
    "                  #'data_root':\n",
    "                   #'epochs': 50,\n",
    "                   'batch_size': 64,\n",
    "                   'lr': 0.005,\n",
    "                  #'save_dir': ,\n",
    "                   'save_each': 5,\n",
    "                   'num_batches_eval':200,\n",
    "                   'validation_size': 2000\n",
    "}\n"
   ]
  },
  {
   "cell_type": "code",
   "execution_count": 4,
   "id": "cab30a67",
   "metadata": {},
   "outputs": [],
   "source": [
    "def create_config_local(config, config_name):\n",
    "    config['data_root'] = '/home/fe/yolcu/Documents/Code/Datasets'\n",
    "    config['batch_size'] = 64\n",
    "    config['device'] = 'cuda'\n",
    "    config['epochs']=150\n",
    "    config['save_each']=20\n",
    "    config['save_dir'] = f\"/home/fe/yolcu/Documents/Code/THESIS/checkpoints/{config['dataset_name']}/{config['dataset_type']}/{config['model_name']}_{config['dataset_type']}\"\n",
    "    path = f\"local/train/{ds_name}\"\n",
    "    os.makedirs(path, exist_ok=True)\n",
    "    \n",
    "    with open(f\"{path}/{config_name}.yaml\", 'w') as outfile:\n",
    "        yaml.dump(config, outfile, default_flow_style=False)\n",
    "        \n",
    "def create_config_cluster(config, config_name):\n",
    "    config['device']='cuda'\n",
    "    config['epochs']=150\n",
    "    config['num_saves']=1\n",
    "    config['save_each']=10\n",
    "    config['data_root'] = '/mnt/dataset/'\n",
    "    #config['model_path']=f\"/mnt/checkpoints/{config['dataset_name']}/{config['model_name']}/{config['dataset_name']}_{config['model_name']}\"\n",
    "    config['base_epoch']=0\n",
    "    config['batch_size'] = 128\n",
    "    config['save_dir'] = '/mnt/outputs/'\n",
    "    \n",
    "    path = f\"cluster/train/{ds_name}\"\n",
    "    os.makedirs(path, exist_ok=True)\n",
    "    \n",
    "    with open(f\"{path}/{config_name}.yaml\", 'w') as outfile:\n",
    "        yaml.dump(config, outfile, default_flow_style=False)"
   ]
  },
  {
   "cell_type": "code",
   "execution_count": 5,
   "id": "64169599",
   "metadata": {},
   "outputs": [],
   "source": [
    "model_names=['basic_conv', 'homo_conv']#, 'basic_fc', 'homo_fc']\n",
    "dataset_types=['std', 'group', 'corrupt', 'mark']\n"
   ]
  },
  {
   "cell_type": "code",
   "execution_count": null,
   "id": "089fa5a9",
   "metadata": {},
   "outputs": [],
   "source": []
  },
  {
   "cell_type": "code",
   "execution_count": 6,
   "id": "68aa2caf",
   "metadata": {},
   "outputs": [],
   "source": [
    "for name in model_names:\n",
    "    base_config['model_name']=name       \n",
    "    for dstype in dataset_types:\n",
    "        base_config['dataset_type']=dstype\n",
    "        if dstype==\"group\":\n",
    "            base_config['num_classes']=len(base_config['class_groups'])\n",
    "        else:\n",
    "            base_config['num_classes']=10\n",
    "        create_config_cluster(base_config, f\"{name}_{dstype}\")\n",
    "        create_config_local(base_config, f\"{name}_{dstype}\")"
   ]
  },
  {
   "cell_type": "code",
   "execution_count": null,
   "id": "9d5b48ce",
   "metadata": {},
   "outputs": [],
   "source": []
  },
  {
   "cell_type": "code",
   "execution_count": null,
   "id": "961a5d72",
   "metadata": {},
   "outputs": [],
   "source": []
  }
 ],
 "metadata": {
  "kernelspec": {
   "display_name": "Python 3 (ipykernel)",
   "language": "python",
   "name": "python3"
  },
  "language_info": {
   "codemirror_mode": {
    "name": "ipython",
    "version": 3
   },
   "file_extension": ".py",
   "mimetype": "text/x-python",
   "name": "python",
   "nbconvert_exporter": "python",
   "pygments_lexer": "ipython3",
   "version": "3.10.6"
  }
 },
 "nbformat": 4,
 "nbformat_minor": 5
}
